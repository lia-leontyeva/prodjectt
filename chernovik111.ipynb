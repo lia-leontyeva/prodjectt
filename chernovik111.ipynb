{
 "cells": [
  {
   "cell_type": "code",
   "execution_count": 1,
   "id": "81e33329-f564-4de8-8015-ad0df6e83f2e",
   "metadata": {},
   "outputs": [],
   "source": [
    "import math"
   ]
  },
  {
   "cell_type": "code",
   "execution_count": 3,
   "id": "46605c54-ca97-4f3c-952c-8786b251b9eb",
   "metadata": {},
   "outputs": [
    {
     "name": "stdin",
     "output_type": "stream",
     "text": [
      "a= 1\n",
      "b= 3\n",
      "c= 2\n"
     ]
    },
    {
     "name": "stdout",
     "output_type": "stream",
     "text": [
      "x1= -1.0 \n",
      "x2= -2.0\n"
     ]
    }
   ],
   "source": [
    "a= int(input(\"a=\"))\n",
    "b= int(input(\"b=\"))\n",
    "c= int(input(\"c=\"))\n",
    "#F=(a*x**2+b*x+c==0)\n",
    "D=(b**2)-(4*a*c)\n",
    "x1=(-b + math.sqrt(D))/(2*a)\n",
    "x2=(-b - math.sqrt(D))/(2*a)\n",
    "print(\"x1=\", x1, \"\\nx2=\",x2)"
   ]
  },
  {
   "cell_type": "code",
   "execution_count": 24,
   "id": "46d0c563-91df-4c54-a3d2-15dc56542205",
   "metadata": {},
   "outputs": [
    {
     "name": "stdin",
     "output_type": "stream",
     "text": [
      "a= 4\n",
      "b= 6\n"
     ]
    },
    {
     "name": "stdout",
     "output_type": "stream",
     "text": [
      "10\n"
     ]
    }
   ],
   "source": [
    "a= int(input(\"a=\"))\n",
    "b= int(input(\"b=\"))\n",
    "F=a+b\n",
    "print(F)"
   ]
  },
  {
   "cell_type": "code",
   "execution_count": 6,
   "id": "21c9dc3b-50d3-4081-b3dc-656cfa4b4ee6",
   "metadata": {},
   "outputs": [
    {
     "name": "stdin",
     "output_type": "stream",
     "text": [
      "a= 4\n",
      "b= 1\n",
      "c= 4\n"
     ]
    },
    {
     "name": "stdout",
     "output_type": "stream",
     "text": [
      "корней нет\n"
     ]
    }
   ],
   "source": [
    "a= int(input(\"a=\"))\n",
    "b= int(input(\"b=\"))\n",
    "c= int(input(\"c=\"))\n",
    "#F=(a*x**2+b*x+c==0)\n",
    "D=(b**2)-(4*a*c)\n",
    "if D<0:\n",
    "    print(\"корней нет\")\n",
    "elif D==0:\n",
    "    x=(-b/2*a)\n",
    "    print(\"x=\", x)\n",
    "else:\n",
    "    x1=(-b + math.sqrt(D))/(2*a)\n",
    "    x2=(-b - math.sqrt(D))/(2*a)\n",
    "    print(\"x1=\", x1, \"\\nx2=\",x2)"
   ]
  },
  {
   "cell_type": "code",
   "execution_count": 13,
   "id": "2bf793c0-f99e-4c53-ba7b-2d47ab9b4585",
   "metadata": {},
   "outputs": [
    {
     "name": "stdout",
     "output_type": "stream",
     "text": [
      "error: 0.3600000000000001 pred: 0.2\n",
      "error: 0.254016 pred: 0.296\n",
      "error: 0.17923368960000002 pred: 0.37664000000000003\n",
      "error: 0.12646729138176005 pred: 0.4443776\n",
      "error: 0.0892353207989699 pred: 0.501277184\n"
     ]
    }
   ],
   "source": [
    "weight,pred_z,input=(0.5,0.8,0.4)\n",
    "for i in range(5):\n",
    "    pred=input*weight\n",
    "    error=(pred-pred_z)**2\n",
    "    func=(pred-pred_z)*input\n",
    "    #alpha=0.01\n",
    "    weight=(weight-func) #*alpha\n",
    "    print(\"error:\", str(error), \"pred:\", str(pred))"
   ]
  },
  {
   "cell_type": "code",
   "execution_count": 15,
   "id": "19d26b4b-249d-49a0-89cd-fc4cfb2fef25",
   "metadata": {},
   "outputs": [
    {
     "name": "stdout",
     "output_type": "stream",
     "text": [
      "1\n",
      "2\n",
      "3\n",
      "4\n",
      "Работа программы завершена\n"
     ]
    }
   ],
   "source": [
    "number = 1\n",
    " \n",
    "while number < 5:\n",
    "    #print(f\"number = {number}\")\n",
    "    print(number)\n",
    "    number += 1\n",
    "print(\"Работа программы завершена\")"
   ]
  },
  {
   "cell_type": "code",
   "execution_count": 18,
   "id": "42db387b-0872-4e2d-9159-7f7076029630",
   "metadata": {},
   "outputs": [
    {
     "name": "stdout",
     "output_type": "stream",
     "text": [
      "0 1 2 3 4 5 6 7 8 9 "
     ]
    }
   ],
   "source": [
    "for n in range(10):\n",
    "    print(n, end=\" \")"
   ]
  },
  {
   "cell_type": "code",
   "execution_count": 11,
   "id": "9228b40b-4205-41f4-8b6e-5a1c65f52e4a",
   "metadata": {},
   "outputs": [
    {
     "name": "stdout",
     "output_type": "stream",
     "text": [
      "a b\n",
      "a a\n",
      "a c\n",
      "b b\n",
      "b a\n",
      "b c\n"
     ]
    }
   ],
   "source": [
    "for c1 in  \"ab\":\n",
    "    for c2 in \"bac\":\n",
    "        print(c1, c2)"
   ]
  },
  {
   "cell_type": "code",
   "execution_count": 15,
   "id": "c8bb0caa-82c6-4fc7-b3af-7e21c0f5bc7e",
   "metadata": {},
   "outputs": [
    {
     "name": "stdout",
     "output_type": "stream",
     "text": [
      "Hello\n",
      "Good Bye\n"
     ]
    }
   ],
   "source": [
    "def print_messages():\n",
    "    # определение локальных функций\n",
    "    def say_hello(): print(\"Hello\")\n",
    "    def say_goodbye(): print(\"Good Bye\")\n",
    "    # вызов локальных функций\n",
    "    say_hello()\n",
    "    say_goodbye()\n",
    " \n",
    "# Вызов функции print_messages\n",
    "print_messages()\n",
    " \n",
    "#say_hello() # вне функции print_messages функция say_hello не доступна"
   ]
  },
  {
   "cell_type": "code",
   "execution_count": 19,
   "id": "e840fd35-1698-431e-93a2-8ca75b92f339",
   "metadata": {},
   "outputs": [
    {
     "name": "stdout",
     "output_type": "stream",
     "text": [
      "Hello\n",
      "Good Bye\n"
     ]
    }
   ],
   "source": [
    "def main():\n",
    "    say_hello()\n",
    "    say_goodbye()\n",
    " \n",
    "def say_hello():\n",
    "    print(\"Hello\")\n",
    " \n",
    "def say_goodbye():\n",
    "    print(\"Good Bye\")\n",
    " \n",
    "# Вызов функции main\n",
    "main()\n"
   ]
  },
  {
   "cell_type": "code",
   "execution_count": 22,
   "id": "be65af96-4612-49d3-b2ba-1d0ed3e1358f",
   "metadata": {},
   "outputs": [
    {
     "name": "stdout",
     "output_type": "stream",
     "text": [
      "Hello, Tom\n",
      "Hello, Bob\n",
      "Hello, Alice\n"
     ]
    }
   ],
   "source": [
    "def say_hello(name):\n",
    "    print(f\"Hello, {name}\")\n",
    " \n",
    "say_hello(\"Tom\")\n",
    "say_hello(\"Bob\")\n",
    "say_hello(\"Alice\")\n"
   ]
  },
  {
   "cell_type": "code",
   "execution_count": 25,
   "id": "020fd85c-c1b4-444f-b3dd-39d749f18c58",
   "metadata": {},
   "outputs": [
    {
     "name": "stdout",
     "output_type": "stream",
     "text": [
      "10\n",
      "8\n",
      "sum(4, 6) = 10\n",
      "sum(3, 5) = 8\n"
     ]
    }
   ],
   "source": [
    "def sum(a, b):\n",
    "    return a + b\n",
    " \n",
    " \n",
    "result = sum(4, 6)                  # result = 0\n",
    "print(result)\n",
    "print(sum(3, 5))\n",
    "print(f\"sum(4, 6) = {result}\")      # sum(4, 6) = 10\n",
    "print(f\"sum(3, 5) = {sum(3, 5)}\")   # sum(3, 5) = 8"
   ]
  },
  {
   "cell_type": "code",
   "execution_count": 4,
   "id": "0395f95f-bd04-4960-95f5-021d382c34a2",
   "metadata": {},
   "outputs": [
    {
     "name": "stdout",
     "output_type": "stream",
     "text": [
      "result = 9\n",
      "result = 20\n"
     ]
    }
   ],
   "source": [
    "def do_operation(a, b, operation):\n",
    "    result = operation(a, b)\n",
    "    print(f\"result = {result}\")\n",
    " \n",
    "def sum(a, b): return a + b\n",
    "def multiply(a, b): return a * b\n",
    " \n",
    "do_operation(5, 4, sum)         # result = 9\n",
    "do_operation(5, 4, multiply)   # result = 20"
   ]
  },
  {
   "cell_type": "code",
   "execution_count": 7,
   "id": "2d1a4344-890b-488e-8bed-edd120799b02",
   "metadata": {},
   "outputs": [
    {
     "name": "stdin",
     "output_type": "stream",
     "text": [
      "Введите а= 5\n",
      "Введите b= 6\n",
      "Введите c= 2\n"
     ]
    },
    {
     "name": "stdout",
     "output_type": "stream",
     "text": [
      "5 6 2\n"
     ]
    }
   ],
   "source": [
    "a,b,c=int(input(\"Введите а=\")),int(input(\"Введите b=\")),int(input(\"Введите c=\"))\n",
    "print(a,b,c)"
   ]
  },
  {
   "cell_type": "code",
   "execution_count": 8,
   "id": "92bbc8a2-773f-49ec-850d-6ad4073e0ed5",
   "metadata": {},
   "outputs": [
    {
     "name": "stdin",
     "output_type": "stream",
     "text": [
      "Введите а= 4\n",
      "Введите b= 1\n",
      "Введите c= 4\n"
     ]
    },
    {
     "name": "stdout",
     "output_type": "stream",
     "text": [
      "корней нет\n"
     ]
    }
   ],
   "source": [
    "def discriminant(a,b,c):\n",
    "    D=(b**2)-(4*a*c)\n",
    "    if D<0:\n",
    "        print(\"корней нет\")\n",
    "    elif D==0:\n",
    "        x=(-b/2*a)\n",
    "        print(\"x=\", x)\n",
    "    else:\n",
    "        x1=(-b + math.sqrt(D))/(2*a)\n",
    "        x2=(-b - math.sqrt(D))/(2*a)\n",
    "        print(\"x1=\", x1, \"\\nx2=\",x2)\n",
    "\n",
    "a,b,c=int(input(\"Введите а=\")),int(input(\"Введите b=\")),int(input(\"Введите c=\"))\n",
    "discriminant(a,b,c)"
   ]
  },
  {
   "cell_type": "code",
   "execution_count": 20,
   "id": "3e7e3d04-4b3b-42b7-bf6b-091cd3b26558",
   "metadata": {},
   "outputs": [
    {
     "name": "stdout",
     "output_type": "stream",
     "text": [
      "25\n",
      "5\n"
     ]
    }
   ],
   "source": [
    "def outer():  # внешняя функция\n",
    "    n = 5\n",
    " \n",
    "    def inner():    # вложенная функция\n",
    "        n = 25\n",
    "        print(n)\n",
    " \n",
    "    inner()     # 25\n",
    "    print(n)\n",
    " \n",
    " \n",
    "outer()     # 5 "
   ]
  },
  {
   "cell_type": "code",
   "execution_count": 21,
   "id": "029f9e9f-15a8-4a3c-aafe-0a5e84f00da4",
   "metadata": {},
   "outputs": [
    {
     "name": "stdout",
     "output_type": "stream",
     "text": [
      "Tom\n",
      "Sam\n",
      "Bob\n"
     ]
    }
   ],
   "source": [
    "people = [\"Tom\", \"Sam\", \"Bob\"]\n",
    "for person in people:\n",
    "    print(person)"
   ]
  },
  {
   "cell_type": "code",
   "execution_count": 24,
   "id": "2c581135-f212-43e5-8472-ecad20c1a84e",
   "metadata": {},
   "outputs": [
    {
     "name": "stdout",
     "output_type": "stream",
     "text": [
      "Tom\n",
      "Sam\n",
      "Bob\n"
     ]
    }
   ],
   "source": [
    "people = [\"Tom\", \"Sam\", \"Bob\"]\n",
    "i = 0\n",
    "while i < len(people):\n",
    "    print(people[i])    # применяем индекс для получения элемента\n",
    "    i += 1"
   ]
  },
  {
   "cell_type": "code",
   "execution_count": null,
   "id": "321d14fb-3a68-4842-ad88-a8669978174f",
   "metadata": {},
   "outputs": [],
   "source": []
  }
 ],
 "metadata": {
  "kernelspec": {
   "display_name": "Python 3 (ipykernel)",
   "language": "python",
   "name": "python3"
  },
  "language_info": {
   "codemirror_mode": {
    "name": "ipython",
    "version": 3
   },
   "file_extension": ".py",
   "mimetype": "text/x-python",
   "name": "python",
   "nbconvert_exporter": "python",
   "pygments_lexer": "ipython3",
   "version": "3.11.5"
  }
 },
 "nbformat": 4,
 "nbformat_minor": 5
}
